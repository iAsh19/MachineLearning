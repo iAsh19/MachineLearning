{
 "cells": [
  {
   "cell_type": "code",
   "execution_count": 10,
   "id": "cc3fdbd0",
   "metadata": {},
   "outputs": [
    {
     "name": "stdout",
     "output_type": "stream",
     "text": [
      "1 https://www.rottentomatoes.com/m/spider_man_homecoming \n",
      " Movie:It Happened One Night (1934)\n",
      "Movie info:Thrilled by his experience with the Avengers, young Peter Parker returns home to live with his Aunt May. Under the watchful eye of mentor Tony Stark, Parker starts to embrace his newfound identity as Spider-Man. He also tries to return to his normal daily routine -- distracted by thoughts of proving himself to be more than just a friendly neighborhood superhero. Peter must soon put his powers to the test when the evil Vulture emerges to threaten everything that he holds dear.\n",
      "2 https://www.rottentomatoes.com/m/spider_man_homecoming \n",
      " Movie:Citizen Kane (1941)\n",
      "Movie info:Thrilled by his experience with the Avengers, young Peter Parker returns home to live with his Aunt May. Under the watchful eye of mentor Tony Stark, Parker starts to embrace his newfound identity as Spider-Man. He also tries to return to his normal daily routine -- distracted by thoughts of proving himself to be more than just a friendly neighborhood superhero. Peter must soon put his powers to the test when the evil Vulture emerges to threaten everything that he holds dear.\n",
      "3 https://www.rottentomatoes.com/m/spider_man_homecoming \n",
      " Movie:The Wizard of Oz (1939)\n",
      "Movie info:Thrilled by his experience with the Avengers, young Peter Parker returns home to live with his Aunt May. Under the watchful eye of mentor Tony Stark, Parker starts to embrace his newfound identity as Spider-Man. He also tries to return to his normal daily routine -- distracted by thoughts of proving himself to be more than just a friendly neighborhood superhero. Peter must soon put his powers to the test when the evil Vulture emerges to threaten everything that he holds dear.\n",
      "4 https://www.rottentomatoes.com/m/spider_man_homecoming \n",
      " Movie:Modern Times (1936)\n",
      "Movie info:Thrilled by his experience with the Avengers, young Peter Parker returns home to live with his Aunt May. Under the watchful eye of mentor Tony Stark, Parker starts to embrace his newfound identity as Spider-Man. He also tries to return to his normal daily routine -- distracted by thoughts of proving himself to be more than just a friendly neighborhood superhero. Peter must soon put his powers to the test when the evil Vulture emerges to threaten everything that he holds dear.\n",
      "Records Downloaded 4\n"
     ]
    }
   ],
   "source": [
    "# Import the following Python Libs\n",
    "import requests\n",
    "import lxml\n",
    "from bs4 import BeautifulSoup\n",
    "from xlwt import *\n",
    "myworkbook = Workbook(encoding = 'utf-8')\n",
    "tbl = myworkbook.add_sheet('downloaded_data')\n",
    "tbl.write(0, 0, 'Number')\n",
    "tbl.write(0, 1, 'movie_url')\n",
    "tbl.write(0, 2, 'movie_name')\n",
    "tbl.write(0, 3, 'movie_overview')\n",
    "line = 1\n",
    "url = \"https://www.rottentomatoes.com/top/bestofrt/\"\n",
    "#Create a URL address that needs to be crawled, then create the header information, and then send a network request to wait for a response.\n",
    "headers = {\n",
    "  'User-Agent': 'Mozilla/5.0 (Windows NT 6.1; WOW64) AppleWebKit/537.36 (KHTML, like Gecko) Chrome/63.0.3239.132 Safari/537.36 QIHU 360SE'\n",
    "}\n",
    "getdata = requests.get(url, headers = headers)\n",
    "movies_lst = []\n",
    "soup = BeautifulSoup(getdata.content, 'lxml')  #Webpage parse: Create a BeautifulSoup object and specify the parser as lxml.\n",
    "movies = soup.find('table', {\n",
    "    'class': 'table'\n",
    "  }).find_all('a')\n",
    "num = 0\n",
    "for anchor_tag in movies:\n",
    "    if num<=3: \n",
    "        urls = 'https://www.rottentomatoes.com' + anchor['href'] \n",
    "        movies_lst.append(urls)\n",
    "        num += 1\n",
    "        movie_url = urls\n",
    "        movie_f = requests.get(movie_url, headers = headers)\n",
    "        movie_soup = BeautifulSoup(movie_f.content, 'lxml')\n",
    "        movie_content = movie_soup.find('div', {\n",
    "          'class': 'movie_synopsis clamp clamp-6 js-clamp'\n",
    "        })\n",
    "        print(num, urls, '\\n', 'Movie:' + anchor_tag.string.strip())\n",
    "        print('Movie info:' + movie_content.string.strip())\n",
    "        tbl.write(line, 0, num)\n",
    "        tbl.write(line, 1, urls)\n",
    "        tbl.write(line, 2, anchor_tag.string.strip())\n",
    "        tbl.write(line, 3, movie_content.string.strip())\n",
    "        line += 1\n",
    "print('Records Downloaded', num)\n",
    "myworkbook.save('movies_top100.xls')"
   ]
  },
  {
   "cell_type": "code",
   "execution_count": null,
   "id": "2074024b",
   "metadata": {},
   "outputs": [],
   "source": []
  },
  {
   "cell_type": "code",
   "execution_count": null,
   "id": "a3412054",
   "metadata": {},
   "outputs": [],
   "source": []
  }
 ],
 "metadata": {
  "kernelspec": {
   "display_name": "Python 3",
   "language": "python",
   "name": "python3"
  },
  "language_info": {
   "codemirror_mode": {
    "name": "ipython",
    "version": 3
   },
   "file_extension": ".py",
   "mimetype": "text/x-python",
   "name": "python",
   "nbconvert_exporter": "python",
   "pygments_lexer": "ipython3",
   "version": "3.8.8"
  }
 },
 "nbformat": 4,
 "nbformat_minor": 5
}
